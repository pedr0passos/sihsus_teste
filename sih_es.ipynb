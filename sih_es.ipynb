{
  "cells": [
    {
      "cell_type": "code",
      "execution_count": null,
      "id": "36333435",
      "metadata": {
        "id": "36333435"
      },
      "outputs": [],
      "source": [
        "!pip install pysus\n",
        "!pip install pandas"
      ]
    },
    {
      "cell_type": "code",
      "execution_count": 2,
      "id": "b2893d89",
      "metadata": {
        "id": "b2893d89"
      },
      "outputs": [],
      "source": [
        "import pandas as pd\n",
        "import seaborn as sb\n",
        "from sqlalchemy import create_engine\n",
        "import matplotlib.pylab as plt\n",
        "from pysus.online_data.SIH import download\n",
        "from datetime import datetime"
      ]
    },
    {
      "cell_type": "code",
      "source": [
        "estado = 'es'\n",
        "meses = [i for i in range(1,13)]\n",
        "anos1 = [2010,2011,2012,2013,2014,2015]\n",
        "anos2 = [2016,2017,2018,2019,2020,2021]\n",
        "aux1={}\n",
        "aux2={}"
      ],
      "metadata": {
        "id": "0zh1tMGC-0GT"
      },
      "id": "0zh1tMGC-0GT",
      "execution_count": 4,
      "outputs": []
    },
    {
      "cell_type": "code",
      "source": [
        "def download_pys(estado, ano, mes):\n",
        "  aux = download(states=estado, years=ano, month=meses)\n",
        "  return pd.concat([pd.read_parquet(v) for v in aux])\n",
        "\n",
        "\n",
        "def extract(anos, meses, aux):\n",
        "  for ano in anos:\n",
        "    for mes in meses:\n",
        "        aux[mes, ano] = pd.read_parquet(download(estado, ano, mes))\n",
        "        print(f\"O Arquivo do Mês {mes} do Ano {ano} do Estado do {estado.upper()} foi Baixado!\")\n",
        "a\n",
        "def concat(aux):\n",
        "  return pd.concat({k:pd.DataFrame.from_dict(v) for k, v in aux.items()}, axis=0).reset_index()"
      ],
      "metadata": {
        "id": "ZLgdE1v4ZwW9"
      },
      "id": "ZLgdE1v4ZwW9",
      "execution_count": null,
      "outputs": []
    },
    {
      "cell_type": "code",
      "source": [],
      "metadata": {
        "id": "Qj_HRnbFVUGZ"
      },
      "id": "Qj_HRnbFVUGZ",
      "execution_count": null,
      "outputs": []
    },
    {
      "cell_type": "code",
      "source": [
        "# extraindo os dados separadamente\n",
        "extract(anos1, meses, aux1)\n",
        "extract(anos2, meses, aux2)"
      ],
      "metadata": {
        "id": "f_N96OO4qPmX"
      },
      "id": "f_N96OO4qPmX",
      "execution_count": null,
      "outputs": []
    },
    {
      "cell_type": "code",
      "source": [
        "# concatenando os dois dicionarios\n",
        "df1 = concat(aux1)\n",
        "df2 = concat(aux2)"
      ],
      "metadata": {
        "id": "j8peWuUJ1wmc"
      },
      "id": "j8peWuUJ1wmc",
      "execution_count": null,
      "outputs": []
    },
    {
      "cell_type": "code",
      "source": [
        "# juntando os dataframes em um só\n",
        "sih_es = df1.append(df2)"
      ],
      "metadata": {
        "id": "JlRFSkNtrLLO",
        "outputId": "b98c05a5-07c7-442a-80be-77816b6381f9",
        "colab": {
          "base_uri": "https://localhost:8080/"
        }
      },
      "id": "JlRFSkNtrLLO",
      "execution_count": null,
      "outputs": [
        {
          "output_type": "stream",
          "name": "stderr",
          "text": [
            "/tmp/ipykernel_8669/3403513005.py:1: FutureWarning: The frame.append method is deprecated and will be removed from pandas in a future version. Use pandas.concat instead.\n",
            "  sih_es = df1.append(df2)\n"
          ]
        }
      ]
    },
    {
      "cell_type": "code",
      "source": [
        "# atribuindo as 3 primeiras colunas nomes\n",
        "sih_es = sih_es.rename(columns={'level_0':'MES', 'level_1':'ANO'})\n",
        "sih_es.shape"
      ],
      "metadata": {
        "id": "J6AONmnTfiUk",
        "outputId": "73537d62-a05b-45f0-d03a-db229b77913e",
        "colab": {
          "base_uri": "https://localhost:8080/"
        }
      },
      "id": "J6AONmnTfiUk",
      "execution_count": null,
      "outputs": [
        {
          "output_type": "execute_result",
          "data": {
            "text/plain": [
              "(1686145, 116)"
            ]
          },
          "metadata": {},
          "execution_count": 92
        }
      ]
    },
    {
      "cell_type": "code",
      "source": [
        "# filtra para ter somente as cids de código que começa com F\n",
        "sih_es = sih_es[sih_es['DIAG_PRINC'].str.contains('F')]\n",
        "sih_es.shape"
      ],
      "metadata": {
        "id": "02Ei2UNijFxy"
      },
      "id": "02Ei2UNijFxy",
      "execution_count": null,
      "outputs": []
    },
    {
      "cell_type": "code",
      "source": [
        "#visualização da tabela pós filtração\n",
        "sih_es"
      ],
      "metadata": {
        "id": "Li_E1OWYPAfa",
        "outputId": "541f9460-36fa-4986-b573-299fbb491d3a",
        "colab": {
          "base_uri": "https://localhost:8080/",
          "height": 424
        }
      },
      "id": "Li_E1OWYPAfa",
      "execution_count": null,
      "outputs": [
        {
          "output_type": "execute_result",
          "data": {
            "text/plain": [
              "         MES   ANO  level_2   UF_ZI ANO_CMPT MES_CMPT ESPEC        CGC_HOSP  \\\n",
              "287        1  2015      287  320000     2015       01    05  27187301000122   \n",
              "288        1  2015      288  320000     2015       01    05  27187301000122   \n",
              "289        1  2015      289  320000     2015       01    05  27187301000122   \n",
              "290        1  2015      290  320000     2015       01    05  27187301000122   \n",
              "291        1  2015      291  320000     2015       01    05  27187301000122   \n",
              "...      ...   ...      ...     ...      ...      ...   ...             ...   \n",
              "1685905   12  2021    20083  320506     2021       12    03  27443803000177   \n",
              "1685918   12  2021    20096  320506     2021       12    03  27443803000177   \n",
              "1685991   12  2021    20169  320506     2021       12    03  27443803000177   \n",
              "1685999   12  2021    20177  320506     2021       12    03  27443803000177   \n",
              "1686012   12  2021    20190  320506     2021       12    03  27443803000177   \n",
              "\n",
              "                 N_AIH IDENT  ... DIAGSEC9 TPDISEC1 TPDISEC2 TPDISEC3  \\\n",
              "287      3214102752267     5  ...                 0        0        0   \n",
              "288      3214102752278     1  ...                 0        0        0   \n",
              "289      3214102752278     5  ...                 0        0        0   \n",
              "290      3214102752289     1  ...                 0        0        0   \n",
              "291      3214102752289     5  ...                 0        0        0   \n",
              "...                ...   ...  ...      ...      ...      ...      ...   \n",
              "1685905  3221101181474     1  ...                 0        0        0   \n",
              "1685918  3221101180540     1  ...                 0        0        0   \n",
              "1685991  3221101181694     1  ...                 0        0        0   \n",
              "1685999  3221101181705     1  ...                 0        0        0   \n",
              "1686012  3221101180330     1  ...                 0        0        0   \n",
              "\n",
              "        TPDISEC4 TPDISEC5 TPDISEC6 TPDISEC7 TPDISEC8 TPDISEC9  \n",
              "287            0        0        0        0        0        0  \n",
              "288            0        0        0        0        0        0  \n",
              "289            0        0        0        0        0        0  \n",
              "290            0        0        0        0        0        0  \n",
              "291            0        0        0        0        0        0  \n",
              "...          ...      ...      ...      ...      ...      ...  \n",
              "1685905        0        0        0        0        0        0  \n",
              "1685918        0        0        0        0        0        0  \n",
              "1685991        0        0        0        0        0        0  \n",
              "1685999        0        0        0        0        0        0  \n",
              "1686012        0        0        0        0        0        0  \n",
              "\n",
              "[23765 rows x 116 columns]"
            ],
            "text/html": [
              "\n",
              "  <div id=\"df-1cceb129-4375-49a5-be57-ec9a36bb3d84\">\n",
              "    <div class=\"colab-df-container\">\n",
              "      <div>\n",
              "<style scoped>\n",
              "    .dataframe tbody tr th:only-of-type {\n",
              "        vertical-align: middle;\n",
              "    }\n",
              "\n",
              "    .dataframe tbody tr th {\n",
              "        vertical-align: top;\n",
              "    }\n",
              "\n",
              "    .dataframe thead th {\n",
              "        text-align: right;\n",
              "    }\n",
              "</style>\n",
              "<table border=\"1\" class=\"dataframe\">\n",
              "  <thead>\n",
              "    <tr style=\"text-align: right;\">\n",
              "      <th></th>\n",
              "      <th>MES</th>\n",
              "      <th>ANO</th>\n",
              "      <th>level_2</th>\n",
              "      <th>UF_ZI</th>\n",
              "      <th>ANO_CMPT</th>\n",
              "      <th>MES_CMPT</th>\n",
              "      <th>ESPEC</th>\n",
              "      <th>CGC_HOSP</th>\n",
              "      <th>N_AIH</th>\n",
              "      <th>IDENT</th>\n",
              "      <th>...</th>\n",
              "      <th>DIAGSEC9</th>\n",
              "      <th>TPDISEC1</th>\n",
              "      <th>TPDISEC2</th>\n",
              "      <th>TPDISEC3</th>\n",
              "      <th>TPDISEC4</th>\n",
              "      <th>TPDISEC5</th>\n",
              "      <th>TPDISEC6</th>\n",
              "      <th>TPDISEC7</th>\n",
              "      <th>TPDISEC8</th>\n",
              "      <th>TPDISEC9</th>\n",
              "    </tr>\n",
              "  </thead>\n",
              "  <tbody>\n",
              "    <tr>\n",
              "      <th>287</th>\n",
              "      <td>1</td>\n",
              "      <td>2015</td>\n",
              "      <td>287</td>\n",
              "      <td>320000</td>\n",
              "      <td>2015</td>\n",
              "      <td>01</td>\n",
              "      <td>05</td>\n",
              "      <td>27187301000122</td>\n",
              "      <td>3214102752267</td>\n",
              "      <td>5</td>\n",
              "      <td>...</td>\n",
              "      <td></td>\n",
              "      <td>0</td>\n",
              "      <td>0</td>\n",
              "      <td>0</td>\n",
              "      <td>0</td>\n",
              "      <td>0</td>\n",
              "      <td>0</td>\n",
              "      <td>0</td>\n",
              "      <td>0</td>\n",
              "      <td>0</td>\n",
              "    </tr>\n",
              "    <tr>\n",
              "      <th>288</th>\n",
              "      <td>1</td>\n",
              "      <td>2015</td>\n",
              "      <td>288</td>\n",
              "      <td>320000</td>\n",
              "      <td>2015</td>\n",
              "      <td>01</td>\n",
              "      <td>05</td>\n",
              "      <td>27187301000122</td>\n",
              "      <td>3214102752278</td>\n",
              "      <td>1</td>\n",
              "      <td>...</td>\n",
              "      <td></td>\n",
              "      <td>0</td>\n",
              "      <td>0</td>\n",
              "      <td>0</td>\n",
              "      <td>0</td>\n",
              "      <td>0</td>\n",
              "      <td>0</td>\n",
              "      <td>0</td>\n",
              "      <td>0</td>\n",
              "      <td>0</td>\n",
              "    </tr>\n",
              "    <tr>\n",
              "      <th>289</th>\n",
              "      <td>1</td>\n",
              "      <td>2015</td>\n",
              "      <td>289</td>\n",
              "      <td>320000</td>\n",
              "      <td>2015</td>\n",
              "      <td>01</td>\n",
              "      <td>05</td>\n",
              "      <td>27187301000122</td>\n",
              "      <td>3214102752278</td>\n",
              "      <td>5</td>\n",
              "      <td>...</td>\n",
              "      <td></td>\n",
              "      <td>0</td>\n",
              "      <td>0</td>\n",
              "      <td>0</td>\n",
              "      <td>0</td>\n",
              "      <td>0</td>\n",
              "      <td>0</td>\n",
              "      <td>0</td>\n",
              "      <td>0</td>\n",
              "      <td>0</td>\n",
              "    </tr>\n",
              "    <tr>\n",
              "      <th>290</th>\n",
              "      <td>1</td>\n",
              "      <td>2015</td>\n",
              "      <td>290</td>\n",
              "      <td>320000</td>\n",
              "      <td>2015</td>\n",
              "      <td>01</td>\n",
              "      <td>05</td>\n",
              "      <td>27187301000122</td>\n",
              "      <td>3214102752289</td>\n",
              "      <td>1</td>\n",
              "      <td>...</td>\n",
              "      <td></td>\n",
              "      <td>0</td>\n",
              "      <td>0</td>\n",
              "      <td>0</td>\n",
              "      <td>0</td>\n",
              "      <td>0</td>\n",
              "      <td>0</td>\n",
              "      <td>0</td>\n",
              "      <td>0</td>\n",
              "      <td>0</td>\n",
              "    </tr>\n",
              "    <tr>\n",
              "      <th>291</th>\n",
              "      <td>1</td>\n",
              "      <td>2015</td>\n",
              "      <td>291</td>\n",
              "      <td>320000</td>\n",
              "      <td>2015</td>\n",
              "      <td>01</td>\n",
              "      <td>05</td>\n",
              "      <td>27187301000122</td>\n",
              "      <td>3214102752289</td>\n",
              "      <td>5</td>\n",
              "      <td>...</td>\n",
              "      <td></td>\n",
              "      <td>0</td>\n",
              "      <td>0</td>\n",
              "      <td>0</td>\n",
              "      <td>0</td>\n",
              "      <td>0</td>\n",
              "      <td>0</td>\n",
              "      <td>0</td>\n",
              "      <td>0</td>\n",
              "      <td>0</td>\n",
              "    </tr>\n",
              "    <tr>\n",
              "      <th>...</th>\n",
              "      <td>...</td>\n",
              "      <td>...</td>\n",
              "      <td>...</td>\n",
              "      <td>...</td>\n",
              "      <td>...</td>\n",
              "      <td>...</td>\n",
              "      <td>...</td>\n",
              "      <td>...</td>\n",
              "      <td>...</td>\n",
              "      <td>...</td>\n",
              "      <td>...</td>\n",
              "      <td>...</td>\n",
              "      <td>...</td>\n",
              "      <td>...</td>\n",
              "      <td>...</td>\n",
              "      <td>...</td>\n",
              "      <td>...</td>\n",
              "      <td>...</td>\n",
              "      <td>...</td>\n",
              "      <td>...</td>\n",
              "      <td>...</td>\n",
              "    </tr>\n",
              "    <tr>\n",
              "      <th>1685905</th>\n",
              "      <td>12</td>\n",
              "      <td>2021</td>\n",
              "      <td>20083</td>\n",
              "      <td>320506</td>\n",
              "      <td>2021</td>\n",
              "      <td>12</td>\n",
              "      <td>03</td>\n",
              "      <td>27443803000177</td>\n",
              "      <td>3221101181474</td>\n",
              "      <td>1</td>\n",
              "      <td>...</td>\n",
              "      <td></td>\n",
              "      <td>0</td>\n",
              "      <td>0</td>\n",
              "      <td>0</td>\n",
              "      <td>0</td>\n",
              "      <td>0</td>\n",
              "      <td>0</td>\n",
              "      <td>0</td>\n",
              "      <td>0</td>\n",
              "      <td>0</td>\n",
              "    </tr>\n",
              "    <tr>\n",
              "      <th>1685918</th>\n",
              "      <td>12</td>\n",
              "      <td>2021</td>\n",
              "      <td>20096</td>\n",
              "      <td>320506</td>\n",
              "      <td>2021</td>\n",
              "      <td>12</td>\n",
              "      <td>03</td>\n",
              "      <td>27443803000177</td>\n",
              "      <td>3221101180540</td>\n",
              "      <td>1</td>\n",
              "      <td>...</td>\n",
              "      <td></td>\n",
              "      <td>0</td>\n",
              "      <td>0</td>\n",
              "      <td>0</td>\n",
              "      <td>0</td>\n",
              "      <td>0</td>\n",
              "      <td>0</td>\n",
              "      <td>0</td>\n",
              "      <td>0</td>\n",
              "      <td>0</td>\n",
              "    </tr>\n",
              "    <tr>\n",
              "      <th>1685991</th>\n",
              "      <td>12</td>\n",
              "      <td>2021</td>\n",
              "      <td>20169</td>\n",
              "      <td>320506</td>\n",
              "      <td>2021</td>\n",
              "      <td>12</td>\n",
              "      <td>03</td>\n",
              "      <td>27443803000177</td>\n",
              "      <td>3221101181694</td>\n",
              "      <td>1</td>\n",
              "      <td>...</td>\n",
              "      <td></td>\n",
              "      <td>0</td>\n",
              "      <td>0</td>\n",
              "      <td>0</td>\n",
              "      <td>0</td>\n",
              "      <td>0</td>\n",
              "      <td>0</td>\n",
              "      <td>0</td>\n",
              "      <td>0</td>\n",
              "      <td>0</td>\n",
              "    </tr>\n",
              "    <tr>\n",
              "      <th>1685999</th>\n",
              "      <td>12</td>\n",
              "      <td>2021</td>\n",
              "      <td>20177</td>\n",
              "      <td>320506</td>\n",
              "      <td>2021</td>\n",
              "      <td>12</td>\n",
              "      <td>03</td>\n",
              "      <td>27443803000177</td>\n",
              "      <td>3221101181705</td>\n",
              "      <td>1</td>\n",
              "      <td>...</td>\n",
              "      <td></td>\n",
              "      <td>0</td>\n",
              "      <td>0</td>\n",
              "      <td>0</td>\n",
              "      <td>0</td>\n",
              "      <td>0</td>\n",
              "      <td>0</td>\n",
              "      <td>0</td>\n",
              "      <td>0</td>\n",
              "      <td>0</td>\n",
              "    </tr>\n",
              "    <tr>\n",
              "      <th>1686012</th>\n",
              "      <td>12</td>\n",
              "      <td>2021</td>\n",
              "      <td>20190</td>\n",
              "      <td>320506</td>\n",
              "      <td>2021</td>\n",
              "      <td>12</td>\n",
              "      <td>03</td>\n",
              "      <td>27443803000177</td>\n",
              "      <td>3221101180330</td>\n",
              "      <td>1</td>\n",
              "      <td>...</td>\n",
              "      <td></td>\n",
              "      <td>0</td>\n",
              "      <td>0</td>\n",
              "      <td>0</td>\n",
              "      <td>0</td>\n",
              "      <td>0</td>\n",
              "      <td>0</td>\n",
              "      <td>0</td>\n",
              "      <td>0</td>\n",
              "      <td>0</td>\n",
              "    </tr>\n",
              "  </tbody>\n",
              "</table>\n",
              "<p>23765 rows × 116 columns</p>\n",
              "</div>\n",
              "      <button class=\"colab-df-convert\" onclick=\"convertToInteractive('df-1cceb129-4375-49a5-be57-ec9a36bb3d84')\"\n",
              "              title=\"Convert this dataframe to an interactive table.\"\n",
              "              style=\"display:none;\">\n",
              "        \n",
              "  <svg xmlns=\"http://www.w3.org/2000/svg\" height=\"24px\"viewBox=\"0 0 24 24\"\n",
              "       width=\"24px\">\n",
              "    <path d=\"M0 0h24v24H0V0z\" fill=\"none\"/>\n",
              "    <path d=\"M18.56 5.44l.94 2.06.94-2.06 2.06-.94-2.06-.94-.94-2.06-.94 2.06-2.06.94zm-11 1L8.5 8.5l.94-2.06 2.06-.94-2.06-.94L8.5 2.5l-.94 2.06-2.06.94zm10 10l.94 2.06.94-2.06 2.06-.94-2.06-.94-.94-2.06-.94 2.06-2.06.94z\"/><path d=\"M17.41 7.96l-1.37-1.37c-.4-.4-.92-.59-1.43-.59-.52 0-1.04.2-1.43.59L10.3 9.45l-7.72 7.72c-.78.78-.78 2.05 0 2.83L4 21.41c.39.39.9.59 1.41.59.51 0 1.02-.2 1.41-.59l7.78-7.78 2.81-2.81c.8-.78.8-2.07 0-2.86zM5.41 20L4 18.59l7.72-7.72 1.47 1.35L5.41 20z\"/>\n",
              "  </svg>\n",
              "      </button>\n",
              "      \n",
              "  <style>\n",
              "    .colab-df-container {\n",
              "      display:flex;\n",
              "      flex-wrap:wrap;\n",
              "      gap: 12px;\n",
              "    }\n",
              "\n",
              "    .colab-df-convert {\n",
              "      background-color: #E8F0FE;\n",
              "      border: none;\n",
              "      border-radius: 50%;\n",
              "      cursor: pointer;\n",
              "      display: none;\n",
              "      fill: #1967D2;\n",
              "      height: 32px;\n",
              "      padding: 0 0 0 0;\n",
              "      width: 32px;\n",
              "    }\n",
              "\n",
              "    .colab-df-convert:hover {\n",
              "      background-color: #E2EBFA;\n",
              "      box-shadow: 0px 1px 2px rgba(60, 64, 67, 0.3), 0px 1px 3px 1px rgba(60, 64, 67, 0.15);\n",
              "      fill: #174EA6;\n",
              "    }\n",
              "\n",
              "    [theme=dark] .colab-df-convert {\n",
              "      background-color: #3B4455;\n",
              "      fill: #D2E3FC;\n",
              "    }\n",
              "\n",
              "    [theme=dark] .colab-df-convert:hover {\n",
              "      background-color: #434B5C;\n",
              "      box-shadow: 0px 1px 3px 1px rgba(0, 0, 0, 0.15);\n",
              "      filter: drop-shadow(0px 1px 2px rgba(0, 0, 0, 0.3));\n",
              "      fill: #FFFFFF;\n",
              "    }\n",
              "  </style>\n",
              "\n",
              "      <script>\n",
              "        const buttonEl =\n",
              "          document.querySelector('#df-1cceb129-4375-49a5-be57-ec9a36bb3d84 button.colab-df-convert');\n",
              "        buttonEl.style.display =\n",
              "          google.colab.kernel.accessAllowed ? 'block' : 'none';\n",
              "\n",
              "        async function convertToInteractive(key) {\n",
              "          const element = document.querySelector('#df-1cceb129-4375-49a5-be57-ec9a36bb3d84');\n",
              "          const dataTable =\n",
              "            await google.colab.kernel.invokeFunction('convertToInteractive',\n",
              "                                                     [key], {});\n",
              "          if (!dataTable) return;\n",
              "\n",
              "          const docLinkHtml = 'Like what you see? Visit the ' +\n",
              "            '<a target=\"_blank\" href=https://colab.research.google.com/notebooks/data_table.ipynb>data table notebook</a>'\n",
              "            + ' to learn more about interactive tables.';\n",
              "          element.innerHTML = '';\n",
              "          dataTable['output_type'] = 'display_data';\n",
              "          await google.colab.output.renderOutput(dataTable, element);\n",
              "          const docLink = document.createElement('div');\n",
              "          docLink.innerHTML = docLinkHtml;\n",
              "          element.appendChild(docLink);\n",
              "        }\n",
              "      </script>\n",
              "    </div>\n",
              "  </div>\n",
              "  "
            ]
          },
          "metadata": {},
          "execution_count": 94
        }
      ]
    },
    {
      "cell_type": "code",
      "source": [
        "# visualizaçao das variaveis que não possuem nenhum valor\n",
        "# sih_es['NUM_FILHOS'].unique(), sih_es['INSTRU'].unique(), sih_es['CID_MORTE'].unique(), sih_es['DIAG_SECUN'].unique()"
      ],
      "metadata": {
        "id": "lA-iVTm6sUh0"
      },
      "id": "lA-iVTm6sUh0",
      "execution_count": null,
      "outputs": []
    },
    {
      "cell_type": "code",
      "source": [
        "# excluindo variaveis que não possuem valores\n",
        "# sih_es.drop(['NUM_FILHOS', 'INSTRU', 'CID_MORTE','DIAG_SECUN'], axis=1, inplace=True)"
      ],
      "metadata": {
        "id": "jN603X01thbJ"
      },
      "id": "jN603X01thbJ",
      "execution_count": null,
      "outputs": []
    },
    {
      "cell_type": "code",
      "source": [
        "# filtra as colunas que eu desejo\n",
        "sih_es = sih_es.filter(vars)\n",
        "sih_es.shape"
      ],
      "metadata": {
        "id": "GhcZ_Ww-iI91",
        "outputId": "192713a0-3960-4087-a72b-e94dbcea219d",
        "colab": {
          "base_uri": "https://localhost:8080/"
        }
      },
      "id": "GhcZ_Ww-iI91",
      "execution_count": null,
      "outputs": [
        {
          "output_type": "execute_result",
          "data": {
            "text/plain": [
              "(23765, 18)"
            ]
          },
          "metadata": {},
          "execution_count": 95
        }
      ]
    },
    {
      "cell_type": "code",
      "source": [
        "# trocando os sexos\n",
        "sexo={'1':'Masculino','3':'Feminino'}\n",
        "sih_es['SEXO'] = sih_es['SEXO'].replace(sexo)"
      ],
      "metadata": {
        "id": "PKKacveXhqHB"
      },
      "id": "PKKacveXhqHB",
      "execution_count": null,
      "outputs": []
    },
    {
      "cell_type": "code",
      "source": [
        "sih_es"
      ],
      "metadata": {
        "id": "HjQUphdwnmed",
        "outputId": "f9b7dfb0-f025-40e0-f9c6-2c5b5a745516",
        "colab": {
          "base_uri": "https://localhost:8080/",
          "height": 424
        }
      },
      "id": "HjQUphdwnmed",
      "execution_count": null,
      "outputs": [
        {
          "output_type": "execute_result",
          "data": {
            "text/plain": [
              "                 N_AIH  MES   ANO IDADE       SEXO   UF_ZI NUM_FILHOS INSTRU  \\\n",
              "287      3214102752267    1  2015    32  Masculino  320000          0      0   \n",
              "288      3214102752278    1  2015    43  Masculino  320000          0      0   \n",
              "289      3214102752278    1  2015    43  Masculino  320000          0      0   \n",
              "290      3214102752289    1  2015    55  Masculino  320000          0      0   \n",
              "291      3214102752289    1  2015    55  Masculino  320000          0      0   \n",
              "...                ...  ...   ...   ...        ...     ...        ...    ...   \n",
              "1685905  3221101181474   12  2021    35   Feminino  320506          0      0   \n",
              "1685918  3221101180540   12  2021    58  Masculino  320506          0      0   \n",
              "1685991  3221101181694   12  2021    69  Masculino  320506          0      0   \n",
              "1685999  3221101181705   12  2021    34  Masculino  320506          0      0   \n",
              "1686012  3221101180330   12  2021    23   Feminino  320506          0      0   \n",
              "\n",
              "        MORTE CID_MORTE DIAS_PERM DIAG_PRINC DIAG_SECUN  DT_INTER ANO_CMPT  \\\n",
              "287         0      0000        31       F195       0000  20141228     2015   \n",
              "288         0      0000         0       F105       0000  20141231     2015   \n",
              "289         0      0000         1       F105       0000  20141231     2015   \n",
              "290         0      0000         7       F200       0000  20141224     2015   \n",
              "291         0      0000        31       F200       0000  20141224     2015   \n",
              "...       ...       ...       ...        ...        ...       ...      ...   \n",
              "1685905     0      0000        11       F190       0000  20211216     2021   \n",
              "1685918     0      0000         7       F100       0000  20211203     2021   \n",
              "1685991     0      0000        13       F102       0000  20211216     2021   \n",
              "1685999     0      0000        12       F142       0000  20211217     2021   \n",
              "1686012     0      0000         1       F319       0000  20211210     2021   \n",
              "\n",
              "        MES_CMPT MARCA_UTI UTI_MES_TO  \n",
              "287           01        00          0  \n",
              "288           01        00          0  \n",
              "289           01        00          0  \n",
              "290           01        00          0  \n",
              "291           01        00          0  \n",
              "...          ...       ...        ...  \n",
              "1685905       12        00          0  \n",
              "1685918       12        00          0  \n",
              "1685991       12        00          0  \n",
              "1685999       12        00          0  \n",
              "1686012       12        00          0  \n",
              "\n",
              "[23765 rows x 18 columns]"
            ],
            "text/html": [
              "\n",
              "  <div id=\"df-588df5e9-98d4-4666-8e56-9198f97c9ba6\">\n",
              "    <div class=\"colab-df-container\">\n",
              "      <div>\n",
              "<style scoped>\n",
              "    .dataframe tbody tr th:only-of-type {\n",
              "        vertical-align: middle;\n",
              "    }\n",
              "\n",
              "    .dataframe tbody tr th {\n",
              "        vertical-align: top;\n",
              "    }\n",
              "\n",
              "    .dataframe thead th {\n",
              "        text-align: right;\n",
              "    }\n",
              "</style>\n",
              "<table border=\"1\" class=\"dataframe\">\n",
              "  <thead>\n",
              "    <tr style=\"text-align: right;\">\n",
              "      <th></th>\n",
              "      <th>N_AIH</th>\n",
              "      <th>MES</th>\n",
              "      <th>ANO</th>\n",
              "      <th>IDADE</th>\n",
              "      <th>SEXO</th>\n",
              "      <th>UF_ZI</th>\n",
              "      <th>NUM_FILHOS</th>\n",
              "      <th>INSTRU</th>\n",
              "      <th>MORTE</th>\n",
              "      <th>CID_MORTE</th>\n",
              "      <th>DIAS_PERM</th>\n",
              "      <th>DIAG_PRINC</th>\n",
              "      <th>DIAG_SECUN</th>\n",
              "      <th>DT_INTER</th>\n",
              "      <th>ANO_CMPT</th>\n",
              "      <th>MES_CMPT</th>\n",
              "      <th>MARCA_UTI</th>\n",
              "      <th>UTI_MES_TO</th>\n",
              "    </tr>\n",
              "  </thead>\n",
              "  <tbody>\n",
              "    <tr>\n",
              "      <th>287</th>\n",
              "      <td>3214102752267</td>\n",
              "      <td>1</td>\n",
              "      <td>2015</td>\n",
              "      <td>32</td>\n",
              "      <td>Masculino</td>\n",
              "      <td>320000</td>\n",
              "      <td>0</td>\n",
              "      <td>0</td>\n",
              "      <td>0</td>\n",
              "      <td>0000</td>\n",
              "      <td>31</td>\n",
              "      <td>F195</td>\n",
              "      <td>0000</td>\n",
              "      <td>20141228</td>\n",
              "      <td>2015</td>\n",
              "      <td>01</td>\n",
              "      <td>00</td>\n",
              "      <td>0</td>\n",
              "    </tr>\n",
              "    <tr>\n",
              "      <th>288</th>\n",
              "      <td>3214102752278</td>\n",
              "      <td>1</td>\n",
              "      <td>2015</td>\n",
              "      <td>43</td>\n",
              "      <td>Masculino</td>\n",
              "      <td>320000</td>\n",
              "      <td>0</td>\n",
              "      <td>0</td>\n",
              "      <td>0</td>\n",
              "      <td>0000</td>\n",
              "      <td>0</td>\n",
              "      <td>F105</td>\n",
              "      <td>0000</td>\n",
              "      <td>20141231</td>\n",
              "      <td>2015</td>\n",
              "      <td>01</td>\n",
              "      <td>00</td>\n",
              "      <td>0</td>\n",
              "    </tr>\n",
              "    <tr>\n",
              "      <th>289</th>\n",
              "      <td>3214102752278</td>\n",
              "      <td>1</td>\n",
              "      <td>2015</td>\n",
              "      <td>43</td>\n",
              "      <td>Masculino</td>\n",
              "      <td>320000</td>\n",
              "      <td>0</td>\n",
              "      <td>0</td>\n",
              "      <td>0</td>\n",
              "      <td>0000</td>\n",
              "      <td>1</td>\n",
              "      <td>F105</td>\n",
              "      <td>0000</td>\n",
              "      <td>20141231</td>\n",
              "      <td>2015</td>\n",
              "      <td>01</td>\n",
              "      <td>00</td>\n",
              "      <td>0</td>\n",
              "    </tr>\n",
              "    <tr>\n",
              "      <th>290</th>\n",
              "      <td>3214102752289</td>\n",
              "      <td>1</td>\n",
              "      <td>2015</td>\n",
              "      <td>55</td>\n",
              "      <td>Masculino</td>\n",
              "      <td>320000</td>\n",
              "      <td>0</td>\n",
              "      <td>0</td>\n",
              "      <td>0</td>\n",
              "      <td>0000</td>\n",
              "      <td>7</td>\n",
              "      <td>F200</td>\n",
              "      <td>0000</td>\n",
              "      <td>20141224</td>\n",
              "      <td>2015</td>\n",
              "      <td>01</td>\n",
              "      <td>00</td>\n",
              "      <td>0</td>\n",
              "    </tr>\n",
              "    <tr>\n",
              "      <th>291</th>\n",
              "      <td>3214102752289</td>\n",
              "      <td>1</td>\n",
              "      <td>2015</td>\n",
              "      <td>55</td>\n",
              "      <td>Masculino</td>\n",
              "      <td>320000</td>\n",
              "      <td>0</td>\n",
              "      <td>0</td>\n",
              "      <td>0</td>\n",
              "      <td>0000</td>\n",
              "      <td>31</td>\n",
              "      <td>F200</td>\n",
              "      <td>0000</td>\n",
              "      <td>20141224</td>\n",
              "      <td>2015</td>\n",
              "      <td>01</td>\n",
              "      <td>00</td>\n",
              "      <td>0</td>\n",
              "    </tr>\n",
              "    <tr>\n",
              "      <th>...</th>\n",
              "      <td>...</td>\n",
              "      <td>...</td>\n",
              "      <td>...</td>\n",
              "      <td>...</td>\n",
              "      <td>...</td>\n",
              "      <td>...</td>\n",
              "      <td>...</td>\n",
              "      <td>...</td>\n",
              "      <td>...</td>\n",
              "      <td>...</td>\n",
              "      <td>...</td>\n",
              "      <td>...</td>\n",
              "      <td>...</td>\n",
              "      <td>...</td>\n",
              "      <td>...</td>\n",
              "      <td>...</td>\n",
              "      <td>...</td>\n",
              "      <td>...</td>\n",
              "    </tr>\n",
              "    <tr>\n",
              "      <th>1685905</th>\n",
              "      <td>3221101181474</td>\n",
              "      <td>12</td>\n",
              "      <td>2021</td>\n",
              "      <td>35</td>\n",
              "      <td>Feminino</td>\n",
              "      <td>320506</td>\n",
              "      <td>0</td>\n",
              "      <td>0</td>\n",
              "      <td>0</td>\n",
              "      <td>0000</td>\n",
              "      <td>11</td>\n",
              "      <td>F190</td>\n",
              "      <td>0000</td>\n",
              "      <td>20211216</td>\n",
              "      <td>2021</td>\n",
              "      <td>12</td>\n",
              "      <td>00</td>\n",
              "      <td>0</td>\n",
              "    </tr>\n",
              "    <tr>\n",
              "      <th>1685918</th>\n",
              "      <td>3221101180540</td>\n",
              "      <td>12</td>\n",
              "      <td>2021</td>\n",
              "      <td>58</td>\n",
              "      <td>Masculino</td>\n",
              "      <td>320506</td>\n",
              "      <td>0</td>\n",
              "      <td>0</td>\n",
              "      <td>0</td>\n",
              "      <td>0000</td>\n",
              "      <td>7</td>\n",
              "      <td>F100</td>\n",
              "      <td>0000</td>\n",
              "      <td>20211203</td>\n",
              "      <td>2021</td>\n",
              "      <td>12</td>\n",
              "      <td>00</td>\n",
              "      <td>0</td>\n",
              "    </tr>\n",
              "    <tr>\n",
              "      <th>1685991</th>\n",
              "      <td>3221101181694</td>\n",
              "      <td>12</td>\n",
              "      <td>2021</td>\n",
              "      <td>69</td>\n",
              "      <td>Masculino</td>\n",
              "      <td>320506</td>\n",
              "      <td>0</td>\n",
              "      <td>0</td>\n",
              "      <td>0</td>\n",
              "      <td>0000</td>\n",
              "      <td>13</td>\n",
              "      <td>F102</td>\n",
              "      <td>0000</td>\n",
              "      <td>20211216</td>\n",
              "      <td>2021</td>\n",
              "      <td>12</td>\n",
              "      <td>00</td>\n",
              "      <td>0</td>\n",
              "    </tr>\n",
              "    <tr>\n",
              "      <th>1685999</th>\n",
              "      <td>3221101181705</td>\n",
              "      <td>12</td>\n",
              "      <td>2021</td>\n",
              "      <td>34</td>\n",
              "      <td>Masculino</td>\n",
              "      <td>320506</td>\n",
              "      <td>0</td>\n",
              "      <td>0</td>\n",
              "      <td>0</td>\n",
              "      <td>0000</td>\n",
              "      <td>12</td>\n",
              "      <td>F142</td>\n",
              "      <td>0000</td>\n",
              "      <td>20211217</td>\n",
              "      <td>2021</td>\n",
              "      <td>12</td>\n",
              "      <td>00</td>\n",
              "      <td>0</td>\n",
              "    </tr>\n",
              "    <tr>\n",
              "      <th>1686012</th>\n",
              "      <td>3221101180330</td>\n",
              "      <td>12</td>\n",
              "      <td>2021</td>\n",
              "      <td>23</td>\n",
              "      <td>Feminino</td>\n",
              "      <td>320506</td>\n",
              "      <td>0</td>\n",
              "      <td>0</td>\n",
              "      <td>0</td>\n",
              "      <td>0000</td>\n",
              "      <td>1</td>\n",
              "      <td>F319</td>\n",
              "      <td>0000</td>\n",
              "      <td>20211210</td>\n",
              "      <td>2021</td>\n",
              "      <td>12</td>\n",
              "      <td>00</td>\n",
              "      <td>0</td>\n",
              "    </tr>\n",
              "  </tbody>\n",
              "</table>\n",
              "<p>23765 rows × 18 columns</p>\n",
              "</div>\n",
              "      <button class=\"colab-df-convert\" onclick=\"convertToInteractive('df-588df5e9-98d4-4666-8e56-9198f97c9ba6')\"\n",
              "              title=\"Convert this dataframe to an interactive table.\"\n",
              "              style=\"display:none;\">\n",
              "        \n",
              "  <svg xmlns=\"http://www.w3.org/2000/svg\" height=\"24px\"viewBox=\"0 0 24 24\"\n",
              "       width=\"24px\">\n",
              "    <path d=\"M0 0h24v24H0V0z\" fill=\"none\"/>\n",
              "    <path d=\"M18.56 5.44l.94 2.06.94-2.06 2.06-.94-2.06-.94-.94-2.06-.94 2.06-2.06.94zm-11 1L8.5 8.5l.94-2.06 2.06-.94-2.06-.94L8.5 2.5l-.94 2.06-2.06.94zm10 10l.94 2.06.94-2.06 2.06-.94-2.06-.94-.94-2.06-.94 2.06-2.06.94z\"/><path d=\"M17.41 7.96l-1.37-1.37c-.4-.4-.92-.59-1.43-.59-.52 0-1.04.2-1.43.59L10.3 9.45l-7.72 7.72c-.78.78-.78 2.05 0 2.83L4 21.41c.39.39.9.59 1.41.59.51 0 1.02-.2 1.41-.59l7.78-7.78 2.81-2.81c.8-.78.8-2.07 0-2.86zM5.41 20L4 18.59l7.72-7.72 1.47 1.35L5.41 20z\"/>\n",
              "  </svg>\n",
              "      </button>\n",
              "      \n",
              "  <style>\n",
              "    .colab-df-container {\n",
              "      display:flex;\n",
              "      flex-wrap:wrap;\n",
              "      gap: 12px;\n",
              "    }\n",
              "\n",
              "    .colab-df-convert {\n",
              "      background-color: #E8F0FE;\n",
              "      border: none;\n",
              "      border-radius: 50%;\n",
              "      cursor: pointer;\n",
              "      display: none;\n",
              "      fill: #1967D2;\n",
              "      height: 32px;\n",
              "      padding: 0 0 0 0;\n",
              "      width: 32px;\n",
              "    }\n",
              "\n",
              "    .colab-df-convert:hover {\n",
              "      background-color: #E2EBFA;\n",
              "      box-shadow: 0px 1px 2px rgba(60, 64, 67, 0.3), 0px 1px 3px 1px rgba(60, 64, 67, 0.15);\n",
              "      fill: #174EA6;\n",
              "    }\n",
              "\n",
              "    [theme=dark] .colab-df-convert {\n",
              "      background-color: #3B4455;\n",
              "      fill: #D2E3FC;\n",
              "    }\n",
              "\n",
              "    [theme=dark] .colab-df-convert:hover {\n",
              "      background-color: #434B5C;\n",
              "      box-shadow: 0px 1px 3px 1px rgba(0, 0, 0, 0.15);\n",
              "      filter: drop-shadow(0px 1px 2px rgba(0, 0, 0, 0.3));\n",
              "      fill: #FFFFFF;\n",
              "    }\n",
              "  </style>\n",
              "\n",
              "      <script>\n",
              "        const buttonEl =\n",
              "          document.querySelector('#df-588df5e9-98d4-4666-8e56-9198f97c9ba6 button.colab-df-convert');\n",
              "        buttonEl.style.display =\n",
              "          google.colab.kernel.accessAllowed ? 'block' : 'none';\n",
              "\n",
              "        async function convertToInteractive(key) {\n",
              "          const element = document.querySelector('#df-588df5e9-98d4-4666-8e56-9198f97c9ba6');\n",
              "          const dataTable =\n",
              "            await google.colab.kernel.invokeFunction('convertToInteractive',\n",
              "                                                     [key], {});\n",
              "          if (!dataTable) return;\n",
              "\n",
              "          const docLinkHtml = 'Like what you see? Visit the ' +\n",
              "            '<a target=\"_blank\" href=https://colab.research.google.com/notebooks/data_table.ipynb>data table notebook</a>'\n",
              "            + ' to learn more about interactive tables.';\n",
              "          element.innerHTML = '';\n",
              "          dataTable['output_type'] = 'display_data';\n",
              "          await google.colab.output.renderOutput(dataTable, element);\n",
              "          const docLink = document.createElement('div');\n",
              "          docLink.innerHTML = docLinkHtml;\n",
              "          element.appendChild(docLink);\n",
              "        }\n",
              "      </script>\n",
              "    </div>\n",
              "  </div>\n",
              "  "
            ]
          },
          "metadata": {},
          "execution_count": 97
        }
      ]
    },
    {
      "cell_type": "code",
      "source": [
        "# descobrindo se possui valores NaN\n",
        "sih_es.isnull().sum()"
      ],
      "metadata": {
        "id": "OTcn2nIOnnRO",
        "outputId": "da6fe126-4ee0-44d0-e47f-eeebbe78e577",
        "colab": {
          "base_uri": "https://localhost:8080/"
        }
      },
      "id": "OTcn2nIOnnRO",
      "execution_count": null,
      "outputs": [
        {
          "output_type": "execute_result",
          "data": {
            "text/plain": [
              "N_AIH         0\n",
              "MES           0\n",
              "ANO           0\n",
              "IDADE         0\n",
              "SEXO          0\n",
              "UF_ZI         0\n",
              "NUM_FILHOS    0\n",
              "INSTRU        0\n",
              "MORTE         0\n",
              "CID_MORTE     0\n",
              "DIAS_PERM     0\n",
              "DIAG_PRINC    0\n",
              "DIAG_SECUN    0\n",
              "DT_INTER      0\n",
              "ANO_CMPT      0\n",
              "MES_CMPT      0\n",
              "MARCA_UTI     0\n",
              "UTI_MES_TO    0\n",
              "dtype: int64"
            ]
          },
          "metadata": {},
          "execution_count": 98
        }
      ]
    },
    {
      "cell_type": "code",
      "source": [
        "# grafico de barras dos sexos dos pacientes\n",
        "grupo_sexo = sih_es.groupby(['SEXO']).size()\n",
        "grupo_sexo.plot.bar(color='gray')"
      ],
      "metadata": {
        "id": "nkcLSUT0p7ix",
        "outputId": "6ba1c306-0fce-4a20-8735-79c89e738858",
        "colab": {
          "base_uri": "https://localhost:8080/",
          "height": 522
        }
      },
      "id": "nkcLSUT0p7ix",
      "execution_count": null,
      "outputs": [
        {
          "output_type": "execute_result",
          "data": {
            "text/plain": [
              "<Axes: xlabel='SEXO'>"
            ]
          },
          "metadata": {},
          "execution_count": 99
        },
        {
          "output_type": "display_data",
          "data": {
            "text/plain": [
              "<Figure size 640x480 with 1 Axes>"
            ],
            "image/png": "[encoded data removed]"
          },
          "metadata": {}
        }
      ]
    },
    {
      "cell_type": "code",
      "source": [
        "# agrupando as cids em um dataframe\n",
        "grupo_cids = sih_es.groupby(['DIAG_PRINC']).size()\n",
        "gc = pd.DataFrame(grupo_cids)\n",
        "gc = gc.rename(columns={\"DIAG_PRINC\":'CID', 0:'QUANT'})"
      ],
      "metadata": {
        "id": "RuhvEyaPqijZ"
      },
      "id": "RuhvEyaPqijZ",
      "execution_count": null,
      "outputs": []
    },
    {
      "cell_type": "code",
      "source": [
        "# filtrando para as cids que possuem quantidade maiores que 500\n",
        "gc_maior = gc[(gc.QUANT >= 500)]\n",
        "gc_maior = gc_maior.sort_values(['QUANT'], ascending=False)\n",
        "# filtrando para cids que possuem quantidade menor que 500 e maiores que 200\n",
        "gc_entre = gc[(gc.QUANT <= 500) & (gc.QUANT >= 200)]\n",
        "gc_entre = gc_entre.sort_values(['QUANT'], ascending=False)"
      ],
      "metadata": {
        "id": "zkHADao7EedZ"
      },
      "id": "zkHADao7EedZ",
      "execution_count": null,
      "outputs": []
    },
    {
      "cell_type": "code",
      "source": [
        "# visualização da tabela\n",
        "gc_maior\n",
        "# grafico\n",
        "gc_maior.plot.bar(color='gray')"
      ],
      "metadata": {
        "id": "pJV8cK-EVLMM",
        "outputId": "e9f6b6a2-ade8-4911-c8c6-25693cc414e8",
        "colab": {
          "base_uri": "https://localhost:8080/",
          "height": 487
        }
      },
      "id": "pJV8cK-EVLMM",
      "execution_count": null,
      "outputs": [
        {
          "output_type": "execute_result",
          "data": {
            "text/plain": [
              "<Axes: xlabel='DIAG_PRINC'>"
            ]
          },
          "metadata": {},
          "execution_count": 102
        },
        {
          "output_type": "display_data",
          "data": {
            "text/plain": [
              "<Figure size 640x480 with 1 Axes>"
            ],
            "image/png": "[encoded data removed]"
          },
          "metadata": {}
        }
      ]
    },
    {
      "cell_type": "code",
      "source": [
        "# visu da tabela\n",
        "gc_entre\n",
        "# tabela\n",
        "gc_entre.plot.bar(color='gray')"
      ],
      "metadata": {
        "id": "8bCDxmuAdpB2",
        "outputId": "da42ba4c-677a-45cb-e4f1-2b9cfe4156bd",
        "colab": {
          "base_uri": "https://localhost:8080/",
          "height": 487
        }
      },
      "id": "8bCDxmuAdpB2",
      "execution_count": null,
      "outputs": [
        {
          "output_type": "execute_result",
          "data": {
            "text/plain": [
              "<Axes: xlabel='DIAG_PRINC'>"
            ]
          },
          "metadata": {},
          "execution_count": 103
        },
        {
          "output_type": "display_data",
          "data": {
            "text/plain": [
              "<Figure size 640x480 with 1 Axes>"
            ],
            "image/png": "[encoded data removed]"
          },
          "metadata": {}
        }
      ]
    },
    {
      "cell_type": "code",
      "source": [
        "# concatenando as colunas em uma coluna DATA\n",
        "sih_es['DATA'] = sih_es.apply(lambda x: '%s-%s' % (x['ANO'], x['MES']), axis=1)\n",
        "# removendo as colunas MES e ANO\n",
        "sih_es.drop(['MES', 'ANO'], axis=1, inplace=True)\n",
        "# convertendo o tipo da coluna de String para Date\n",
        "dateparse = lambda dates: datetime.strptime(dates, '%Y-%m')\n",
        "sih_es.DATA = sih_es.DATA.apply(dateparse)"
      ],
      "metadata": {
        "id": "MKxgCVsxKkkp"
      },
      "id": "MKxgCVsxKkkp",
      "execution_count": null,
      "outputs": []
    },
    {
      "cell_type": "code",
      "source": [
        "# criação da tabela separada pra serie temporal com tempo e sexo masculino\n",
        "temp_series = sih_es['DATA']\n",
        "temp_series = pd.DataFrame(temp_series)\n",
        "temp_series = temp_series.join(sih_es['SEXO'])\n",
        "aux = temp_series.loc[(temp_series['SEXO'] == 'Feminino')]\n",
        "temp_series=temp_series.drop(aux.index)\n",
        "temp_series = temp_series.groupby(['DATA']).size()"
      ],
      "metadata": {
        "id": "_Uj4oBQtNq-_"
      },
      "id": "_Uj4oBQtNq-_",
      "execution_count": null,
      "outputs": []
    },
    {
      "cell_type": "code",
      "source": [
        "temp_series"
      ],
      "metadata": {
        "id": "J8aJI015Nt0N",
        "outputId": "48ddaca3-c318-4d35-a221-fed1378f9b96",
        "colab": {
          "base_uri": "https://localhost:8080/"
        }
      },
      "id": "J8aJI015Nt0N",
      "execution_count": null,
      "outputs": [
        {
          "output_type": "execute_result",
          "data": {
            "text/plain": [
              "DATA\n",
              "2015-01-01    475\n",
              "2015-02-01    494\n",
              "2015-03-01    420\n",
              "2015-04-01    223\n",
              "2015-05-01    204\n",
              "             ... \n",
              "2021-08-01    210\n",
              "2021-09-01    200\n",
              "2021-10-01    128\n",
              "2021-11-01    178\n",
              "2021-12-01    119\n",
              "Length: 84, dtype: int64"
            ]
          },
          "metadata": {},
          "execution_count": 136
        }
      ]
    },
    {
      "cell_type": "code",
      "source": [
        "# episódios que aconteceram com homens\n",
        "plt.plot(temp_series)"
      ],
      "metadata": {
        "id": "3LPKTnvQnHJd",
        "outputId": "f9e76e44-15e2-46d4-d5db-d93e2e4ca11a",
        "colab": {
          "base_uri": "https://localhost:8080/",
          "height": 447
        }
      },
      "id": "3LPKTnvQnHJd",
      "execution_count": null,
      "outputs": [
        {
          "output_type": "execute_result",
          "data": {
            "text/plain": [
              "[<matplotlib.lines.Line2D at 0x7fcddbc67130>]"
            ]
          },
          "metadata": {},
          "execution_count": 134
        },
        {
          "output_type": "display_data",
          "data": {
            "text/plain": [
              "<Figure size 640x480 with 1 Axes>"
            ],
            "image/png": "[encoded data removed]"
          },
          "metadata": {}
        }
      ]
    },
    {
      "cell_type": "code",
      "source": [
        "# serie temporal apenas dos anos\n",
        "temp_series_ano = temp_series.resample('A').sum()\n",
        "plt.plot(temp_series_ano)"
      ],
      "metadata": {
        "id": "L2zWV4cB6nEX",
        "outputId": "0fa13660-5b34-488d-efb0-20513d036e22",
        "colab": {
          "base_uri": "https://localhost:8080/",
          "height": 447
        }
      },
      "id": "L2zWV4cB6nEX",
      "execution_count": null,
      "outputs": [
        {
          "output_type": "execute_result",
          "data": {
            "text/plain": [
              "[<matplotlib.lines.Line2D at 0x7fcdfe3a38e0>]"
            ]
          },
          "metadata": {},
          "execution_count": 137
        },
        {
          "output_type": "display_data",
          "data": {
            "text/plain": [
              "<Figure size 640x480 with 1 Axes>"
            ],
            "image/png": "[encoded data removed]"
          },
          "metadata": {}
        }
      ]
    },
    {
      "cell_type": "code",
      "source": [
        "# TEMPO COM A QUE MAIS TEVE DIAGNOSTICO - F200\n",
        "temp_series = sih_es['DATA']\n",
        "temp_series = pd.DataFrame(temp_series)\n",
        "temp_series = temp_series.join(sih_es['DIAG_PRINC'])\n",
        "aux = temp_series.loc[(temp_series['DIAG_PRINC'] != 'F200')]\n",
        "temp_series = temp_series.drop(aux.index)"
      ],
      "metadata": {
        "id": "njlyQCbBnxTQ"
      },
      "id": "njlyQCbBnxTQ",
      "execution_count": null,
      "outputs": []
    },
    {
      "cell_type": "code",
      "source": [
        "temp_series = temp_series.groupby(['DATA']).size()\n",
        "temp_series"
      ],
      "metadata": {
        "id": "akLBH18N39Lt",
        "outputId": "8b18fae5-6b77-4680-90ca-172ab53c53e2",
        "colab": {
          "base_uri": "https://localhost:8080/"
        }
      },
      "id": "akLBH18N39Lt",
      "execution_count": null,
      "outputs": [
        {
          "output_type": "execute_result",
          "data": {
            "text/plain": [
              "DATA\n",
              "2015-01-01    216\n",
              "2015-02-01    231\n",
              "2015-03-01    200\n",
              "2015-04-01    109\n",
              "2015-05-01    101\n",
              "             ... \n",
              "2021-08-01     23\n",
              "2021-09-01     23\n",
              "2021-10-01     29\n",
              "2021-11-01     29\n",
              "2021-12-01     14\n",
              "Length: 84, dtype: int64"
            ]
          },
          "metadata": {},
          "execution_count": 139
        }
      ]
    },
    {
      "cell_type": "code",
      "source": [
        "plt.plot(temp_series)"
      ],
      "metadata": {
        "id": "d6EQ8DgT3-G8",
        "outputId": "4a781350-1607-4d96-a6d0-e14a81af3763",
        "colab": {
          "base_uri": "https://localhost:8080/",
          "height": 447
        }
      },
      "id": "d6EQ8DgT3-G8",
      "execution_count": null,
      "outputs": [
        {
          "output_type": "execute_result",
          "data": {
            "text/plain": [
              "[<matplotlib.lines.Line2D at 0x7fcdf4dcb4c0>]"
            ]
          },
          "metadata": {},
          "execution_count": 140
        },
        {
          "output_type": "display_data",
          "data": {
            "text/plain": [
              "<Figure size 640x480 with 1 Axes>"
            ],
            "image/png": "[encoded data removed]"
          },
          "metadata": {}
        }
      ]
    },
    {
      "cell_type": "code",
      "source": [
        "# visualização por ano\n",
        "temp_series_ano = temp_series.resample('A').sum()\n",
        "plt.plot(temp_series_ano)"
      ],
      "metadata": {
        "id": "UShpqt5F4BPW",
        "outputId": "9c59f009-11d0-4327-cf18-5268df72d2a9",
        "colab": {
          "base_uri": "https://localhost:8080/",
          "height": 447
        }
      },
      "id": "UShpqt5F4BPW",
      "execution_count": null,
      "outputs": [
        {
          "output_type": "execute_result",
          "data": {
            "text/plain": [
              "[<matplotlib.lines.Line2D at 0x7fcdf4d952d0>]"
            ]
          },
          "metadata": {},
          "execution_count": 141
        },
        {
          "output_type": "display_data",
          "data": {
            "text/plain": [
              "<Figure size 640x480 with 1 Axes>"
            ],
            "image/png": "[encoded data removed]"
          },
          "metadata": {}
        }
      ]
    },
    {
      "cell_type": "code",
      "source": [],
      "metadata": {
        "id": "gRzuFLRI6feX"
      },
      "id": "gRzuFLRI6feX",
      "execution_count": null,
      "outputs": []
    }
  ],
  "metadata": {
    "kernelspec": {
      "display_name": "Python 3 (ipykernel)",
      "language": "python",
      "name": "python3"
    },
    "language_info": {
      "codemirror_mode": {
        "name": "ipython",
        "version": 3
      },
      "file_extension": ".py",
      "mimetype": "text/x-python",
      "name": "python",
      "nbconvert_exporter": "python",
      "pygments_lexer": "ipython3",
      "version": "3.9.13"
    },
    "colab": {
      "provenance": [],
      "toc_visible": true
    }
  },
  "nbformat": 4,
  "nbformat_minor": 5
}